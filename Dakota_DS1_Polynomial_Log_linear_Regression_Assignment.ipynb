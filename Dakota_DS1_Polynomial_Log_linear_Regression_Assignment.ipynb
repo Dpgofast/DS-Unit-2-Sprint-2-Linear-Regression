{
  "nbformat": 4,
  "nbformat_minor": 0,
  "metadata": {
    "colab": {
      "name": "Dakota_DS1_Polynomial/Log-linear Regression Assignment.ipynb",
      "version": "0.3.2",
      "provenance": [],
      "include_colab_link": true
    },
    "kernelspec": {
      "name": "python3",
      "display_name": "Python 3"
    }
  },
  "cells": [
    {
      "cell_type": "markdown",
      "metadata": {
        "id": "view-in-github",
        "colab_type": "text"
      },
      "source": [
        "<a href=\"https://colab.research.google.com/github/Dpgofast/DS-Unit-2-Sprint-2-Linear-Regression/blob/master/Dakota_DS1_Polynomial_Log_linear_Regression_Assignment.ipynb\" target=\"_parent\"><img src=\"https://colab.research.google.com/assets/colab-badge.svg\" alt=\"Open In Colab\"/></a>"
      ]
    },
    {
      "metadata": {
        "id": "Dc4kEVNWo4yZ",
        "colab_type": "text"
      },
      "cell_type": "markdown",
      "source": [
        "# Intermediate Linear Regression Practice\n",
        "\n",
        "## Use a Linear Regression model to get the lowest RMSE possible on the following dataset:\n",
        "\n",
        "[Dataset Folder](https://github.com/ryanleeallred/datasets/tree/master/Ames%20Housing%20Data)\n",
        "\n",
        "[Raw CSV](https://raw.githubusercontent.com/ryanleeallred/datasets/master/Ames%20Housing%20Data/train.csv)\n",
        "\n",
        "## You model must include (at least):\n",
        "- A log-transformed y variable\n",
        "- Two polynomial features\n",
        "- One interaction feature\n",
        "- 10 other engineered features\n",
        "\n",
        "What is the lowest Root-Mean-Squared Error that you are able to obtain? Share your best RMSEs in Slack!\n",
        "\n",
        "Notes:\n",
        "\n",
        "There may be some data cleaning that you need to do on some features of this dataset. Linear Regression will only accept numeric values and will not accept\n",
        "\n",
        "Note* There may not be a clear candidate for an interaction term in this dataset. Include one anyway, sometimes it's a good practice for predictive modeling feature engineering in general. "
      ]
    },
    {
      "metadata": {
        "id": "6M4kraYZAuRO",
        "colab_type": "code",
        "colab": {}
      },
      "cell_type": "code",
      "source": [
        "#Imports here\n",
        "import pandas as pd \n",
        "import matplotlib.pyplot as plt \n",
        "import numpy as np\n",
        "import seaborn as sns\n",
        "from sklearn.linear_model import LinearRegression\n",
        "from sklearn.metrics import mean_squared_error, r2_score\n",
        "from sklearn.model_selection import train_test_split\n",
        "from sklearn.preprocessing import LabelEncoder\n"
      ],
      "execution_count": 0,
      "outputs": []
    },
    {
      "metadata": {
        "id": "09ts50k8HMGG",
        "colab_type": "code",
        "colab": {}
      },
      "cell_type": "code",
      "source": [
        "pd.set_option('display.height', 1000)\n",
        "pd.set_option('display.max_rows', 500)\n",
        "pd.set_option('display.max_columns', 500)\n",
        "pd.set_option('display.width', 1000)"
      ],
      "execution_count": 0,
      "outputs": []
    },
    {
      "metadata": {
        "id": "XYZSkixpo2qD",
        "colab_type": "code",
        "colab": {
          "base_uri": "https://localhost:8080/",
          "height": 1343
        },
        "outputId": "2d20f89c-c67e-48f2-de41-88b311d35834"
      },
      "cell_type": "code",
      "source": [
        "##### Your Code Here #####\n",
        "url = 'https://raw.githubusercontent.com/ryanleeallred/datasets/master/Ames%20Housing%20Data/train.csv'\n",
        "df = pd.read_csv(url)\n",
        "df.head()\n",
        "# columns ill drop for now \n",
        "#[['Alley','PoolQC','Fence','MiscFeature']] These features had over 1000 NAN values \n",
        "dropped = df.drop(columns = ['Alley','PoolQC','Fence','MiscFeature'])\n",
        "dropped.dtypes\n"
      ],
      "execution_count": 62,
      "outputs": [
        {
          "output_type": "execute_result",
          "data": {
            "text/plain": [
              "Id                 int64\n",
              "MSSubClass         int64\n",
              "MSZoning          object\n",
              "LotFrontage      float64\n",
              "LotArea            int64\n",
              "Street            object\n",
              "LotShape          object\n",
              "LandContour       object\n",
              "Utilities         object\n",
              "LotConfig         object\n",
              "LandSlope         object\n",
              "Neighborhood      object\n",
              "Condition1        object\n",
              "Condition2        object\n",
              "BldgType          object\n",
              "HouseStyle        object\n",
              "OverallQual        int64\n",
              "OverallCond        int64\n",
              "YearBuilt          int64\n",
              "YearRemodAdd       int64\n",
              "RoofStyle         object\n",
              "RoofMatl          object\n",
              "Exterior1st       object\n",
              "Exterior2nd       object\n",
              "MasVnrType        object\n",
              "MasVnrArea       float64\n",
              "ExterQual         object\n",
              "ExterCond         object\n",
              "Foundation        object\n",
              "BsmtQual          object\n",
              "BsmtCond          object\n",
              "BsmtExposure      object\n",
              "BsmtFinType1      object\n",
              "BsmtFinSF1         int64\n",
              "BsmtFinType2      object\n",
              "BsmtFinSF2         int64\n",
              "BsmtUnfSF          int64\n",
              "TotalBsmtSF        int64\n",
              "Heating           object\n",
              "HeatingQC         object\n",
              "CentralAir        object\n",
              "Electrical        object\n",
              "1stFlrSF           int64\n",
              "2ndFlrSF           int64\n",
              "LowQualFinSF       int64\n",
              "GrLivArea          int64\n",
              "BsmtFullBath       int64\n",
              "BsmtHalfBath       int64\n",
              "FullBath           int64\n",
              "HalfBath           int64\n",
              "BedroomAbvGr       int64\n",
              "KitchenAbvGr       int64\n",
              "KitchenQual       object\n",
              "TotRmsAbvGrd       int64\n",
              "Functional        object\n",
              "Fireplaces         int64\n",
              "FireplaceQu       object\n",
              "GarageType        object\n",
              "GarageYrBlt      float64\n",
              "GarageFinish      object\n",
              "GarageCars         int64\n",
              "GarageArea         int64\n",
              "GarageQual        object\n",
              "GarageCond        object\n",
              "PavedDrive        object\n",
              "WoodDeckSF         int64\n",
              "OpenPorchSF        int64\n",
              "EnclosedPorch      int64\n",
              "3SsnPorch          int64\n",
              "ScreenPorch        int64\n",
              "PoolArea           int64\n",
              "MiscVal            int64\n",
              "MoSold             int64\n",
              "YrSold             int64\n",
              "SaleType          object\n",
              "SaleCondition     object\n",
              "SalePrice          int64\n",
              "dtype: object"
            ]
          },
          "metadata": {
            "tags": []
          },
          "execution_count": 62
        }
      ]
    },
    {
      "metadata": {
        "id": "9FyDUbW2J0LO",
        "colab_type": "code",
        "colab": {
          "base_uri": "https://localhost:8080/",
          "height": 34
        },
        "outputId": "3df49a19-0135-4709-c6ca-a3bef7225127"
      },
      "cell_type": "code",
      "source": [
        "#Has NAN needs cleaned [LotFrontage 259,BsmtQual 37,BsmtCond 37,BsmtExposure 38,BsmtFinType1 37,Electrical 1,FireplaceQu 690,GarageType 81,\n",
        "#GarageYrBlt 81,GarageFinish 81,GarageQual 81,GarageCond 81,MasVnrType 8MasVnrArea 8,BsmtFinType2 ]\n",
        "\n",
        "dropped.LotFrontage.fillna(dropped.LotFrontage.mean(),inplace = True)\n",
        "dropped.BsmtQual.fillna(dropped.BsmtQual.describe().top, inplace = True)\n",
        "dropped.BsmtCond.fillna(dropped.BsmtCond.describe().top, inplace = True)\n",
        "dropped.BsmtExposure.fillna(dropped.BsmtExposure.describe().top, inplace = True)\n",
        "dropped.BsmtFinType1.fillna(dropped.BsmtFinType1.describe().top, inplace = True)\n",
        "dropped.Electrical.fillna(dropped.Electrical.describe().top,inplace = True)\n",
        "dropped.FireplaceQu.fillna(dropped.FireplaceQu.describe().top,inplace = True)\n",
        "dropped.GarageType.fillna(dropped.GarageType.describe().top,inplace = True)\n",
        "dropped.GarageYrBlt.fillna(dropped.GarageYrBlt.mean(),inplace = True)\n",
        "dropped.GarageFinish.fillna(dropped.GarageFinish.describe().top,inplace = True)\n",
        "dropped.GarageQual.fillna(dropped.GarageQual.describe().top,inplace = True)\n",
        "dropped.GarageCond.fillna(dropped.GarageCond.describe().top,inplace = True)\n",
        "dropped.MasVnrType.fillna(dropped.MasVnrType.describe().top,inplace = True)\n",
        "dropped.MasVnrArea.fillna(dropped.MasVnrArea.mean(),inplace = True)\n",
        "dropped.BsmtFinType2 .fillna(dropped.BsmtFinType2 .describe().top,inplace = True)\n",
        "dropped.isnull().sum().sum()\n",
        "# now that that's done all nans are handled \n",
        "# Next is encoding all objects "
      ],
      "execution_count": 74,
      "outputs": [
        {
          "output_type": "execute_result",
          "data": {
            "text/plain": [
              "0"
            ]
          },
          "metadata": {
            "tags": []
          },
          "execution_count": 74
        }
      ]
    },
    {
      "metadata": {
        "id": "I0-GO7IWw4SP",
        "colab_type": "code",
        "colab": {}
      },
      "cell_type": "code",
      "source": [
        "# lets encode all Object Dtypes \n",
        "#Auto encodes any dataframe column of type category or object.\n",
        "def dummyEncode(df):\n",
        "        columnsToEncode = list(df.select_dtypes(include=['category','object']))\n",
        "        le = LabelEncoder()\n",
        "        for feature in columnsToEncode:\n",
        "            try:\n",
        "                df[feature] = le.fit_transform(df[feature])\n",
        "            except:\n",
        "                print('Error encoding '+feature)\n",
        "        return df\n",
        "      "
      ],
      "execution_count": 0,
      "outputs": []
    },
    {
      "metadata": {
        "id": "NJjYHZsUxTrj",
        "colab_type": "code",
        "colab": {}
      },
      "cell_type": "code",
      "source": [
        "encoded = dummyEncode(dropped)\n",
        "encoded.drop(columns=['Id'], inplace = True)\n",
        "#all objects appear to be encoded"
      ],
      "execution_count": 0,
      "outputs": []
    },
    {
      "metadata": {
        "id": "F2az_HoCyjwr",
        "colab_type": "code",
        "colab": {
          "base_uri": "https://localhost:8080/",
          "height": 364
        },
        "outputId": "f913267f-2c61-4035-bed0-67a5d1baf40b"
      },
      "cell_type": "code",
      "source": [
        "encoded['log_price'] = np.log(encoded['SalePrice'])\n",
        "encoded.SalePrice.hist()"
      ],
      "execution_count": 88,
      "outputs": [
        {
          "output_type": "execute_result",
          "data": {
            "text/plain": [
              "<matplotlib.axes._subplots.AxesSubplot at 0x7f45063af470>"
            ]
          },
          "metadata": {
            "tags": []
          },
          "execution_count": 88
        },
        {
          "output_type": "display_data",
          "data": {
            "image/png": "[encoded data removed]",
            "text/plain": [
              "<matplotlib.figure.Figure at 0x7f450636c7f0>"
            ]
          },
          "metadata": {
            "tags": []
          }
        }
      ]
    },
    {
      "metadata": {
        "id": "gNfoW6iIzUjr",
        "colab_type": "code",
        "colab": {
          "base_uri": "https://localhost:8080/",
          "height": 364
        },
        "outputId": "67012683-f642-48aa-d421-6eccddb242cf"
      },
      "cell_type": "code",
      "source": [
        "encoded.log_price.hist()"
      ],
      "execution_count": 89,
      "outputs": [
        {
          "output_type": "execute_result",
          "data": {
            "text/plain": [
              "<matplotlib.axes._subplots.AxesSubplot at 0x7f450628eda0>"
            ]
          },
          "metadata": {
            "tags": []
          },
          "execution_count": 89
        },
        {
          "output_type": "display_data",
          "data": {
            "image/png": "[encoded data removed]",
            "text/plain": [
              "<matplotlib.figure.Figure at 0x7f4506364390>"
            ]
          },
          "metadata": {
            "tags": []
          }
        }
      ]
    },
    {
      "metadata": {
        "id": "LJdLZijF0Qo3",
        "colab_type": "code",
        "colab": {}
      },
      "cell_type": "code",
      "source": [
        "encoded.drop(columns = ['SalePrice'],inplace = True)\n"
      ],
      "execution_count": 0,
      "outputs": []
    },
    {
      "metadata": {
        "id": "XjuPdsbF0-kn",
        "colab_type": "code",
        "colab": {
          "base_uri": "https://localhost:8080/",
          "height": 88
        },
        "outputId": "738edc62-5f0c-4d08-948c-6bcf6fb13934"
      },
      "cell_type": "code",
      "source": [
        "encoded.columns"
      ],
      "execution_count": 93,
      "outputs": [
        {
          "output_type": "execute_result",
          "data": {
            "text/plain": [
              "Index(['MSSubClass', 'MSZoning', 'LotFrontage', 'LotArea', 'Street', 'LotShape', 'LandContour', 'Utilities', 'LotConfig', 'LandSlope', 'Neighborhood', 'Condition1', 'Condition2', 'BldgType', 'HouseStyle', 'OverallQual', 'OverallCond', 'YearBuilt', 'YearRemodAdd', 'RoofStyle', 'RoofMatl', 'Exterior1st', 'Exterior2nd', 'MasVnrType', 'MasVnrArea', 'ExterQual', 'ExterCond', 'Foundation', 'BsmtQual', 'BsmtCond', 'BsmtExposure', 'BsmtFinType1', 'BsmtFinSF1', 'BsmtFinType2', 'BsmtFinSF2', 'BsmtUnfSF', 'TotalBsmtSF', 'Heating', 'HeatingQC', 'CentralAir', 'Electrical', '1stFlrSF', '2ndFlrSF', 'LowQualFinSF', 'GrLivArea', 'BsmtFullBath', 'BsmtHalfBath', 'FullBath', 'HalfBath', 'BedroomAbvGr', 'KitchenAbvGr', 'KitchenQual', 'TotRmsAbvGrd', 'Functional', 'Fireplaces', 'FireplaceQu', 'GarageType', 'GarageYrBlt', 'GarageFinish', 'GarageCars', 'GarageArea', 'GarageQual', 'GarageCond', 'PavedDrive', 'WoodDeckSF', 'OpenPorchSF', 'EnclosedPorch', '3SsnPorch', 'ScreenPorch', 'PoolArea', 'MiscVal',\n",
              "       'MoSold', 'YrSold', 'SaleType', 'SaleCondition', 'log_price'],\n",
              "      dtype='object')"
            ]
          },
          "metadata": {
            "tags": []
          },
          "execution_count": 93
        }
      ]
    },
    {
      "metadata": {
        "id": "NlVfym0z0Ouz",
        "colab_type": "code",
        "colab": {
          "base_uri": "https://localhost:8080/",
          "height": 391
        },
        "outputId": "c96f6e4d-a18d-494c-a86e-8b0edb538662"
      },
      "cell_type": "code",
      "source": [
        "y = encoded.loc[:, ['log_price']].values\n",
        "X = encoded.loc[:, ['MSSubClass', 'MSZoning', 'LotFrontage', 'LotArea', \n",
        "                    'Street', 'LotShape', 'LandContour', 'Utilities', \n",
        "                    'LotConfig', 'LandSlope', 'Neighborhood', 'Condition1', \n",
        "                    'Condition2', 'BldgType', 'HouseStyle', 'OverallQual', \n",
        "                    'OverallCond', 'YearBuilt', 'YearRemodAdd', 'RoofStyle', \n",
        "                    'RoofMatl', 'Exterior1st', 'Exterior2nd', 'MasVnrType', \n",
        "                    'MasVnrArea', 'ExterQual', 'ExterCond', 'Foundation', \n",
        "                    'BsmtQual', 'BsmtCond', 'BsmtExposure', 'BsmtFinType1',\n",
        "                    'BsmtFinSF1', 'BsmtFinType2', 'BsmtFinSF2', 'BsmtUnfSF', \n",
        "                    'TotalBsmtSF', 'Heating', 'HeatingQC', 'CentralAir',\n",
        "                    'Electrical', '1stFlrSF', '2ndFlrSF', 'LowQualFinSF', \n",
        "                    'GrLivArea', 'BsmtFullBath', 'BsmtHalfBath', 'FullBath', \n",
        "                    'HalfBath', 'BedroomAbvGr', 'KitchenAbvGr', 'KitchenQual', \n",
        "                    'TotRmsAbvGrd', 'Functional', 'Fireplaces', 'FireplaceQu', \n",
        "                    'GarageType', 'GarageYrBlt', 'GarageFinish', 'GarageCars',\n",
        "                    'GarageArea', 'GarageQual', 'GarageCond', 'PavedDrive', \n",
        "                    'WoodDeckSF', 'OpenPorchSF', 'EnclosedPorch', '3SsnPorch',\n",
        "                    'ScreenPorch', 'PoolArea', 'MiscVal','MoSold', 'YrSold', \n",
        "                    'SaleType', 'SaleCondition']].values\n",
        "\n",
        "# Slit into test and train datasets\n",
        "X_train, X_test, Y_train, Y_test = train_test_split(X, y, test_size=9, random_state=42)\n",
        "\n",
        "# fit model using train datasets\n",
        "model = LinearRegression()\n",
        "model.fit(X_train, Y_train)\n",
        "\n",
        "# Create new predictions using x_test\n",
        "y_pred = model.predict(X_test)\n",
        "\n",
        "# Measure Accuracy using y_test and y_pred\n",
        "RMSE = (np.sqrt(mean_squared_error(Y_test, y_pred)))\n",
        "R2 = r2_score(Y_test, y_pred)\n",
        "\n",
        "print('RMSE is {}'.format(RMSE))\n",
        "print('R^2 is {}'.format(R2))\n",
        "\n",
        "print(\"coefficients: \", model.coef_[0])\n",
        "print(\"intercepts: \", model.intercept_)"
      ],
      "execution_count": 104,
      "outputs": [
        {
          "output_type": "stream",
          "text": [
            "RMSE is 0.12136369946012561\n",
            "R^2 is 0.9468243114009373\n",
            "coefficients:  [-2.24533593e-04 -1.59624763e-02 -5.07067280e-04  1.54173786e-06\n",
            "  1.89022437e-01 -6.05617721e-03  1.02514394e-02 -1.66196291e-01\n",
            " -1.82089549e-03  3.56144342e-02  1.17356324e-03  1.46613524e-03\n",
            " -4.38852251e-02 -1.22364488e-02 -4.15798560e-03  6.94835146e-02\n",
            "  3.92279971e-02  1.79761642e-03  7.48077582e-04  5.45026484e-03\n",
            "  1.00078784e-02 -3.43000776e-03  3.14868268e-03  3.54878639e-03\n",
            "  8.56606034e-06 -4.91224307e-03  1.14880884e-02  1.24938078e-02\n",
            " -2.04797037e-02  6.30846225e-03 -9.87113547e-03 -8.47354010e-03\n",
            " -3.47033167e-06  6.61813981e-03  5.10210224e-05 -4.70493160e-06\n",
            "  4.28457594e-05 -5.39517552e-03 -8.30113475e-03  7.50786324e-02\n",
            " -5.84050658e-04  6.81109437e-05  3.16855064e-05  3.67421565e-05\n",
            "  1.36538606e-04  5.55696243e-02  1.42177501e-02  4.18158537e-02\n",
            "  2.03516209e-02  7.03281902e-03 -3.51467908e-02 -2.12526939e-02\n",
            "  1.26287511e-02  1.75097348e-02  3.79665334e-02 -6.24048746e-03\n",
            " -3.75615600e-03 -7.48261615e-04 -9.90534807e-03  6.18413536e-02\n",
            "  3.84026813e-05 -4.16371929e-05  1.17999559e-02  2.35064387e-02\n",
            "  1.03974940e-04 -2.98588801e-05  1.42140537e-04  1.91099066e-04\n",
            "  3.30059266e-04 -2.79982113e-04 -9.10252881e-07  1.67298644e-04\n",
            " -6.76274099e-03 -1.85319848e-03  2.27416632e-02]\n",
            "intercepts:  [20.45227436]\n"
          ],
          "name": "stdout"
        }
      ]
    },
    {
      "metadata": {
        "id": "Uvbg4rRPW2Ex",
        "colab_type": "text"
      },
      "cell_type": "markdown",
      "source": [
        "# Stretch Goals\n",
        "\n",
        "- Write a blog post explaining one of today's topics.\n",
        "- Find a new regression dataset from the UCI machine learning repository and use it to test out your new modeling skillz.\n",
        " [ - UCI Machine Learning Repository - Regression Datasets](https://)\n",
        "- Make a list for yourself of common feature engineering techniques. Browse Kaggle kernels to learn more methods.\n",
        "- Start studying for tomorrow's topic: Gradient Descent\n",
        "- Try and make the ultimate model with this dataset. clean as many features as possible, engineer the most sensible features as possible and see how accurate of a prediction you can make. \n",
        "- Learn about the \"Dummy Variable Trap\" and how it applies to linear regression modeling.\n",
        "- Learning about using linear regression to model time series data"
      ]
    }
  ]
}